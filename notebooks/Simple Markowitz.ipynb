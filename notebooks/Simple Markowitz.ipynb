{
 "cells": [
  {
   "cell_type": "code",
   "execution_count": 1,
   "id": "6aed0126",
   "metadata": {},
   "outputs": [],
   "source": [
    "%load_ext autoreload\n",
    "%autoreload 2"
   ]
  },
  {
   "cell_type": "code",
   "execution_count": 3,
   "id": "7dbb8013",
   "metadata": {},
   "outputs": [],
   "source": [
    "import pandas as pd\n",
    "import numpy as np\n",
    "import scipy.optimize as sop\n",
    "from matplotlib import pyplot as plt\n",
    "from fenix_alpha_vantage.alpha_stock_timeseries import AlphaStockTimeSeries"
   ]
  },
  {
   "cell_type": "code",
   "execution_count": 4,
   "id": "11d3379e",
   "metadata": {},
   "outputs": [],
   "source": [
    "class StockForecastType:\n",
    "    pass\n",
    "\n",
    "class PastPercentualReturnForecastType(StockForecastType):\n",
    "    def __init__(self, look_back_days, percentual_returns_window_days, average_trade_return_window_days):\n",
    "        self.look_back_days = look_back_days # Number of days to consider as a data input\n",
    "        self.percentual_returns_window_days = percentual_returns_window_days\n",
    "        self.average_trade_return_window_days = average_trade_return_window_days"
   ]
  },
  {
   "cell_type": "markdown",
   "id": "2ee31a0c",
   "metadata": {},
   "source": [
    "# Heuristics Definition"
   ]
  },
  {
   "cell_type": "code",
   "execution_count": 5,
   "id": "c8c042cb",
   "metadata": {},
   "outputs": [],
   "source": [
    "reference_date = '2021-01-01'\n",
    "\n",
    "to_consider = ['ABEV3.SAO', \n",
    "               'LREN3.SAO',\n",
    "               'AZUL4.SAO', \n",
    "               'LIGT3.SAO',\n",
    "               'SHOW3.SAO',\n",
    "               'PETR4.SAO',\n",
    "               'JBSS3.SAO',\n",
    "               'OIBR3.SAO',\n",
    "               'BBDC4.SAO',\n",
    "               'NTCO3.SAO']\n",
    "# to_consider = ['BBAS3.SAO',\n",
    "#                'BBDC4.SAO',\n",
    "#                'BPAC11.SAO',\n",
    "#                'ITUB4.SAO',\n",
    "#                'SHOW3.SAO']\n",
    "\n",
    "forecast_type = PastPercentualReturnForecastType(look_back_days=150,\n",
    "                                                 percentual_returns_window_days=1,\n",
    "                                                 average_trade_return_window_days=30)\n"
   ]
  },
  {
   "cell_type": "markdown",
   "id": "b8c02d3a",
   "metadata": {},
   "source": [
    "# Calendar"
   ]
  },
  {
   "cell_type": "code",
   "execution_count": 6,
   "id": "08a83e3c",
   "metadata": {},
   "outputs": [],
   "source": [
    "reference_date = pd.to_datetime(reference_date) - pd.Timedelta(days=1)\n",
    "df_calendar = pd.DataFrame(\n",
    "    {\"date\": pd.date_range(\n",
    "        reference_date - pd.Timedelta(days=forecast_type.look_back_days),\n",
    "        reference_date\n",
    "    )})\n",
    "\n",
    "#-- dia anterior menos a janela\n",
    "df_calendar[\"day_of_week\"] = df_calendar['date'].dt.isocalendar().day\n",
    "df_calendar[\"week_of_year\"] = df_calendar['date'].dt.isocalendar().week\n",
    "df_calendar[\"year\"] = df_calendar['date'].dt.isocalendar().year"
   ]
  },
  {
   "cell_type": "markdown",
   "id": "f1bb54c2",
   "metadata": {},
   "source": [
    "# Data ETL"
   ]
  },
  {
   "cell_type": "markdown",
   "id": "75b7e56e",
   "metadata": {},
   "source": [
    "### Getting data from Alpha Vantage"
   ]
  },
  {
   "cell_type": "code",
   "execution_count": 7,
   "id": "99480153",
   "metadata": {},
   "outputs": [],
   "source": [
    "timeseries = AlphaStockTimeSeries()"
   ]
  },
  {
   "cell_type": "code",
   "execution_count": 10,
   "id": "e80685c0",
   "metadata": {},
   "outputs": [],
   "source": [
    "daily_api_dfs = {}\n",
    "for ticker in to_consider:\n",
    "    daily_api_dfs[ticker] = timeseries.df_time_series_daily(ticker=ticker, use_vpn=True, adjusted=True)"
   ]
  },
  {
   "cell_type": "markdown",
   "id": "df4492d0",
   "metadata": {},
   "source": [
    "### Aggregating data to one table only"
   ]
  },
  {
   "cell_type": "code",
   "execution_count": 11,
   "id": "a0d2288d",
   "metadata": {},
   "outputs": [],
   "source": [
    "# Backups\n",
    "daily_dfs = daily_api_dfs.copy()"
   ]
  },
  {
   "cell_type": "code",
   "execution_count": 13,
   "id": "7fbf45bf",
   "metadata": {},
   "outputs": [],
   "source": [
    "ticker_close_column_names = []\n",
    "close_column_name = 'close'\n",
    "df_closings = df_calendar.copy()\n",
    "\n",
    "# One table for all stocks\n",
    "for stock in daily_dfs:\n",
    "    # Getting Stock name\n",
    "    prefix = stock.lower()[0:5]+'_'\n",
    "    #Selecting only the columns of interest and renaming\n",
    "    daily_dfs[stock] = daily_dfs[stock][['date', 'adjusted_close']]\n",
    "    daily_dfs[stock] = daily_dfs[stock].rename({'adjusted_close':close_column_name}, axis='columns')\n",
    "    # Adding Prefix to all columns\n",
    "    daily_dfs[stock] = daily_dfs[stock].add_prefix(prefix)\n",
    "    ticker_close_column_names.append(prefix+close_column_name)\n",
    "    # Joining with calendar\n",
    "    df_closings = df_closings.merge(daily_dfs[stock], how='inner', left_on='date', right_on=prefix+'date')\n",
    "    del df_closings[prefix+'date']\n",
    "df_closings = df_closings.set_index('date')"
   ]
  },
  {
   "cell_type": "markdown",
   "id": "43ffe6f9",
   "metadata": {},
   "source": [
    "### Removing date details"
   ]
  },
  {
   "cell_type": "code",
   "execution_count": 14,
   "id": "fb32c0a8",
   "metadata": {},
   "outputs": [],
   "source": [
    "df_closings = df_closings[ticker_close_column_names]"
   ]
  },
  {
   "cell_type": "markdown",
   "id": "be188c36",
   "metadata": {},
   "source": [
    "# Dataframe being used"
   ]
  },
  {
   "cell_type": "code",
   "execution_count": 15,
   "id": "a7bf2a36",
   "metadata": {},
   "outputs": [
    {
     "data": {
      "text/html": [
       "<div>\n",
       "<style scoped>\n",
       "    .dataframe tbody tr th:only-of-type {\n",
       "        vertical-align: middle;\n",
       "    }\n",
       "\n",
       "    .dataframe tbody tr th {\n",
       "        vertical-align: top;\n",
       "    }\n",
       "\n",
       "    .dataframe thead th {\n",
       "        text-align: right;\n",
       "    }\n",
       "</style>\n",
       "<table border=\"1\" class=\"dataframe\">\n",
       "  <thead>\n",
       "    <tr style=\"text-align: right;\">\n",
       "      <th></th>\n",
       "      <th>abev3_close</th>\n",
       "      <th>lren3_close</th>\n",
       "      <th>azul4_close</th>\n",
       "      <th>ligt3_close</th>\n",
       "      <th>show3_close</th>\n",
       "      <th>petr4_close</th>\n",
       "      <th>jbss3_close</th>\n",
       "      <th>oibr3_close</th>\n",
       "      <th>bbdc4_close</th>\n",
       "      <th>ntco3_close</th>\n",
       "    </tr>\n",
       "    <tr>\n",
       "      <th>date</th>\n",
       "      <th></th>\n",
       "      <th></th>\n",
       "      <th></th>\n",
       "      <th></th>\n",
       "      <th></th>\n",
       "      <th></th>\n",
       "      <th></th>\n",
       "      <th></th>\n",
       "      <th></th>\n",
       "      <th></th>\n",
       "    </tr>\n",
       "  </thead>\n",
       "  <tbody>\n",
       "    <tr>\n",
       "      <th>2020-08-03</th>\n",
       "      <td>13.2935</td>\n",
       "      <td>40.5587</td>\n",
       "      <td>20.1</td>\n",
       "      <td>18.0479</td>\n",
       "      <td>2.65</td>\n",
       "      <td>21.0902</td>\n",
       "      <td>21.7766</td>\n",
       "      <td>1.62</td>\n",
       "      <td>20.0564</td>\n",
       "      <td>46.61</td>\n",
       "    </tr>\n",
       "    <tr>\n",
       "      <th>2020-08-04</th>\n",
       "      <td>12.9929</td>\n",
       "      <td>39.2273</td>\n",
       "      <td>19.82</td>\n",
       "      <td>17.1211</td>\n",
       "      <td>2.66</td>\n",
       "      <td>21.0708</td>\n",
       "      <td>21.2539</td>\n",
       "      <td>1.55</td>\n",
       "      <td>19.637</td>\n",
       "      <td>46.74</td>\n",
       "    </tr>\n",
       "    <tr>\n",
       "      <th>2020-08-05</th>\n",
       "      <td>12.7796</td>\n",
       "      <td>40.4792</td>\n",
       "      <td>20.16</td>\n",
       "      <td>17.0724</td>\n",
       "      <td>2.63</td>\n",
       "      <td>22.4253</td>\n",
       "      <td>21.1087</td>\n",
       "      <td>1.62</td>\n",
       "      <td>19.7274</td>\n",
       "      <td>47.81</td>\n",
       "    </tr>\n",
       "    <tr>\n",
       "      <th>2020-08-06</th>\n",
       "      <td>12.8572</td>\n",
       "      <td>42.5757</td>\n",
       "      <td>21.45</td>\n",
       "      <td>17.1114</td>\n",
       "      <td>2.69</td>\n",
       "      <td>22.464</td>\n",
       "      <td>21.341</td>\n",
       "      <td>1.56</td>\n",
       "      <td>19.8631</td>\n",
       "      <td>48.03</td>\n",
       "    </tr>\n",
       "    <tr>\n",
       "      <th>2020-08-07</th>\n",
       "      <td>12.9056</td>\n",
       "      <td>42.9434</td>\n",
       "      <td>21.01</td>\n",
       "      <td>16.7894</td>\n",
       "      <td>2.8</td>\n",
       "      <td>22.048</td>\n",
       "      <td>20.9732</td>\n",
       "      <td>1.56</td>\n",
       "      <td>19.7455</td>\n",
       "      <td>46.79</td>\n",
       "    </tr>\n",
       "    <tr>\n",
       "      <th>...</th>\n",
       "      <td>...</td>\n",
       "      <td>...</td>\n",
       "      <td>...</td>\n",
       "      <td>...</td>\n",
       "      <td>...</td>\n",
       "      <td>...</td>\n",
       "      <td>...</td>\n",
       "      <td>...</td>\n",
       "      <td>...</td>\n",
       "      <td>...</td>\n",
       "    </tr>\n",
       "    <tr>\n",
       "      <th>2020-12-22</th>\n",
       "      <td>15.4364</td>\n",
       "      <td>43.0417</td>\n",
       "      <td>35.27</td>\n",
       "      <td>22.3599</td>\n",
       "      <td>3.81</td>\n",
       "      <td>26.3918</td>\n",
       "      <td>23.2864</td>\n",
       "      <td>2.11</td>\n",
       "      <td>24.5745</td>\n",
       "      <td>50.05</td>\n",
       "    </tr>\n",
       "    <tr>\n",
       "      <th>2020-12-23</th>\n",
       "      <td>15.4265</td>\n",
       "      <td>43.6002</td>\n",
       "      <td>37.7</td>\n",
       "      <td>23.5306</td>\n",
       "      <td>3.84</td>\n",
       "      <td>27.04</td>\n",
       "      <td>23.0154</td>\n",
       "      <td>2.16</td>\n",
       "      <td>25.1368</td>\n",
       "      <td>51.69</td>\n",
       "    </tr>\n",
       "    <tr>\n",
       "      <th>2020-12-28</th>\n",
       "      <td>15.6952</td>\n",
       "      <td>43.8495</td>\n",
       "      <td>37.77</td>\n",
       "      <td>23.8135</td>\n",
       "      <td>3.89</td>\n",
       "      <td>27.2625</td>\n",
       "      <td>23.0831</td>\n",
       "      <td>2.22</td>\n",
       "      <td>25.3816</td>\n",
       "      <td>52.0</td>\n",
       "    </tr>\n",
       "    <tr>\n",
       "      <th>2020-12-29</th>\n",
       "      <td>15.8743</td>\n",
       "      <td>44.0091</td>\n",
       "      <td>37.67</td>\n",
       "      <td>23.9013</td>\n",
       "      <td>3.92</td>\n",
       "      <td>27.3495</td>\n",
       "      <td>23.238</td>\n",
       "      <td>2.18</td>\n",
       "      <td>24.9644</td>\n",
       "      <td>51.94</td>\n",
       "    </tr>\n",
       "    <tr>\n",
       "      <th>2020-12-30</th>\n",
       "      <td>15.5758</td>\n",
       "      <td>43.4207</td>\n",
       "      <td>39.3</td>\n",
       "      <td>23.7062</td>\n",
       "      <td>3.97</td>\n",
       "      <td>27.4173</td>\n",
       "      <td>22.8993</td>\n",
       "      <td>2.2</td>\n",
       "      <td>24.6108</td>\n",
       "      <td>52.5</td>\n",
       "    </tr>\n",
       "  </tbody>\n",
       "</table>\n",
       "<p>103 rows × 10 columns</p>\n",
       "</div>"
      ],
      "text/plain": [
       "           abev3_close lren3_close azul4_close ligt3_close show3_close  \\\n",
       "date                                                                     \n",
       "2020-08-03     13.2935     40.5587        20.1     18.0479        2.65   \n",
       "2020-08-04     12.9929     39.2273       19.82     17.1211        2.66   \n",
       "2020-08-05     12.7796     40.4792       20.16     17.0724        2.63   \n",
       "2020-08-06     12.8572     42.5757       21.45     17.1114        2.69   \n",
       "2020-08-07     12.9056     42.9434       21.01     16.7894         2.8   \n",
       "...                ...         ...         ...         ...         ...   \n",
       "2020-12-22     15.4364     43.0417       35.27     22.3599        3.81   \n",
       "2020-12-23     15.4265     43.6002        37.7     23.5306        3.84   \n",
       "2020-12-28     15.6952     43.8495       37.77     23.8135        3.89   \n",
       "2020-12-29     15.8743     44.0091       37.67     23.9013        3.92   \n",
       "2020-12-30     15.5758     43.4207        39.3     23.7062        3.97   \n",
       "\n",
       "           petr4_close jbss3_close oibr3_close bbdc4_close ntco3_close  \n",
       "date                                                                    \n",
       "2020-08-03     21.0902     21.7766        1.62     20.0564       46.61  \n",
       "2020-08-04     21.0708     21.2539        1.55      19.637       46.74  \n",
       "2020-08-05     22.4253     21.1087        1.62     19.7274       47.81  \n",
       "2020-08-06      22.464      21.341        1.56     19.8631       48.03  \n",
       "2020-08-07      22.048     20.9732        1.56     19.7455       46.79  \n",
       "...                ...         ...         ...         ...         ...  \n",
       "2020-12-22     26.3918     23.2864        2.11     24.5745       50.05  \n",
       "2020-12-23       27.04     23.0154        2.16     25.1368       51.69  \n",
       "2020-12-28     27.2625     23.0831        2.22     25.3816        52.0  \n",
       "2020-12-29     27.3495      23.238        2.18     24.9644       51.94  \n",
       "2020-12-30     27.4173     22.8993         2.2     24.6108        52.5  \n",
       "\n",
       "[103 rows x 10 columns]"
      ]
     },
     "execution_count": 15,
     "metadata": {},
     "output_type": "execute_result"
    }
   ],
   "source": [
    "df_closings"
   ]
  },
  {
   "cell_type": "markdown",
   "id": "e195828c",
   "metadata": {},
   "source": [
    "# Calculations"
   ]
  },
  {
   "cell_type": "code",
   "execution_count": 16,
   "id": "a3556edc",
   "metadata": {},
   "outputs": [
    {
     "name": "stdout",
     "output_type": "stream",
     "text": [
      "(stock price / previous stock price) - 1\n"
     ]
    }
   ],
   "source": [
    "print(\"(stock price / previous stock price) - 1\")\n",
    "returns_window = 1\n",
    "df_percentual_returns = df_closings.pct_change(periods=forecast_type.percentual_returns_window_days)"
   ]
  },
  {
   "cell_type": "markdown",
   "id": "67f2157f",
   "metadata": {},
   "source": [
    "## Standardizing Return Values"
   ]
  },
  {
   "cell_type": "code",
   "execution_count": 17,
   "id": "c7a28c51",
   "metadata": {},
   "outputs": [],
   "source": [
    "# Average return window -> Trade Window\n",
    "df_average_return = df_percentual_returns.rolling(forecast_type.average_trade_return_window_days).mean()"
   ]
  },
  {
   "cell_type": "markdown",
   "id": "f7d023c1",
   "metadata": {},
   "source": [
    "## Returns Covariance"
   ]
  },
  {
   "cell_type": "code",
   "execution_count": 18,
   "id": "c45f8fa4",
   "metadata": {},
   "outputs": [],
   "source": [
    "df_returns_covariance_matrix = df_percentual_returns.astype(float).cov()"
   ]
  },
  {
   "cell_type": "markdown",
   "id": "ff45a8fc",
   "metadata": {},
   "source": [
    "# Portfolio Optimization"
   ]
  },
  {
   "cell_type": "code",
   "execution_count": 19,
   "id": "e0520802",
   "metadata": {},
   "outputs": [],
   "source": [
    "# Ponto de atencao\n",
    "def check_sum_to_one(weights):\n",
    "    return np.sum(weights)-1\n",
    "\n",
    "def check_inequality(weights):\n",
    "    return weights"
   ]
  },
  {
   "cell_type": "code",
   "execution_count": 20,
   "id": "a57c9611",
   "metadata": {},
   "outputs": [],
   "source": [
    "# Starting values -> Fazer mais dinamico\n",
    "weights_start = [0.1, 0.1, 0.1, 0.1, 0.1, 0.1, 0.1, 0.1, 0.1, 0.1]\n",
    "\n",
    "# Can be anywhere from 0 to 1 -> We can set our hardcoded % of a stock here\n",
    "bounds = ((0,1),(0,1),(0,1),(0,1),(0,1),(0,1),(0,1),(0,1),(0,1),(0,1))"
   ]
  },
  {
   "cell_type": "code",
   "execution_count": 21,
   "id": "b9f57f44",
   "metadata": {},
   "outputs": [],
   "source": [
    "# Constraints from our minimization\n",
    "constraints = ([\n",
    "    {'type':'eq', 'fun':check_sum_to_one},\n",
    "    {'type':'ineq', 'fun':check_inequality}\n",
    "])"
   ]
  },
  {
   "cell_type": "code",
   "execution_count": 22,
   "id": "be9fdd23",
   "metadata": {},
   "outputs": [],
   "source": [
    "def negative_sr(weights):\n",
    "    weights = np.array(weights)\n",
    "    \n",
    "    ret = np.sum(df_average_return[-1:].mean()*weights)\n",
    "    volatility = np.dot(weights.T, np.dot(df_returns_covariance_matrix, weights))\n",
    "    \n",
    "    sr = volatility/ret\n",
    "    return sr"
   ]
  },
  {
   "cell_type": "code",
   "execution_count": 23,
   "id": "54a9cb24",
   "metadata": {},
   "outputs": [],
   "source": [
    "# https://docs.scipy.org/doc/scipy/reference/generated/scipy.optimize.minimize.html\n",
    "optimal_weights = sop.minimize(fun=negative_sr,\n",
    "                               x0=weights_start, \n",
    "                               method='SLSQP',\n",
    "                               bounds=bounds,\n",
    "                               constraints=constraints\n",
    "                              )"
   ]
  },
  {
   "cell_type": "code",
   "execution_count": 24,
   "id": "3f5f1da3",
   "metadata": {},
   "outputs": [
    {
     "data": {
      "text/plain": [
       "     fun: 0.04463152454702949\n",
       "     jac: array([0.04948486, 0.10289718, 0.05727246, 0.04454546, 0.0444776 ,\n",
       "       0.04426819, 0.04502336, 0.04429378, 0.04470138, 0.04448176])\n",
       " message: 'Optimization terminated successfully'\n",
       "    nfev: 154\n",
       "     nit: 14\n",
       "    njev: 14\n",
       "  status: 0\n",
       " success: True\n",
       "       x: array([0.00000000e+00, 1.34476165e-17, 2.40376394e-18, 4.85411369e-02,\n",
       "       1.54850022e-01, 2.20091430e-01, 3.62533246e-01, 4.80971097e-02,\n",
       "       3.19590560e-02, 1.33928000e-01])"
      ]
     },
     "execution_count": 24,
     "metadata": {},
     "output_type": "execute_result"
    }
   ],
   "source": [
    "optimal_weights"
   ]
  },
  {
   "cell_type": "code",
   "execution_count": 25,
   "id": "96d552bc",
   "metadata": {},
   "outputs": [
    {
     "name": "stdout",
     "output_type": "stream",
     "text": [
      "Optimal Allocation\n",
      "\n",
      "abev3 - 0.0%\n",
      "lren3 - 0.0%\n",
      "azul4 - 0.0%\n",
      "ligt3 - 4.854%\n",
      "show3 - 15.485%\n",
      "petr4 - 22.009%\n",
      "jbss3 - 36.253%\n",
      "oibr3 - 4.81%\n",
      "bbdc4 - 3.196%\n",
      "ntco3 - 13.393%\n"
     ]
    }
   ],
   "source": [
    "if optimal_weights.success:\n",
    "    print(\"Optimal Allocation\")\n",
    "    print(\"\")\n",
    "    for ticker, value in zip(ticker_close_column_names, list(optimal_weights.x.astype(float)*100)):\n",
    "        print(f'{ticker[:5]} - {round(value,3)}%')\n",
    "else:\n",
    "    print('Something Went wrong...')"
   ]
  },
  {
   "cell_type": "markdown",
   "id": "7fac022b",
   "metadata": {},
   "source": [
    "---"
   ]
  },
  {
   "cell_type": "markdown",
   "id": "289c4125",
   "metadata": {},
   "source": [
    "# Correlation"
   ]
  },
  {
   "cell_type": "code",
   "execution_count": null,
   "id": "4b387e92",
   "metadata": {},
   "outputs": [],
   "source": [
    "import seaborn as sns\n",
    "from matplotlib import pyplot as plt"
   ]
  },
  {
   "cell_type": "code",
   "execution_count": null,
   "id": "351f0ba8",
   "metadata": {},
   "outputs": [],
   "source": [
    "correlation_matrix = average_return_df.corr()"
   ]
  },
  {
   "cell_type": "code",
   "execution_count": null,
   "id": "c821c179",
   "metadata": {},
   "outputs": [],
   "source": [
    "plt.rcParams['figure.figsize'] = (10,10)\n",
    "sns.set(font_scale=1.4)\n",
    "sns.heatmap(correlation_matrix, annot=True, cmap='coolwarm',  fmt='.1g', vmin = -1, vmax = 1)"
   ]
  },
  {
   "cell_type": "markdown",
   "id": "b75e35e4",
   "metadata": {},
   "source": [
    "# Decomposing"
   ]
  },
  {
   "cell_type": "code",
   "execution_count": null,
   "id": "1e1ce72b",
   "metadata": {},
   "outputs": [],
   "source": [
    "same_period.tail()"
   ]
  },
  {
   "cell_type": "code",
   "execution_count": null,
   "id": "efe9545f",
   "metadata": {},
   "outputs": [],
   "source": [
    "from statsmodels.tsa.seasonal import seasonal_decompose"
   ]
  },
  {
   "cell_type": "code",
   "execution_count": null,
   "id": "d0a3da2d",
   "metadata": {},
   "outputs": [],
   "source": [
    "multiplicable_result=seasonal_decompose(same_period['abev3_adjusted close'], model='multiplicable', period=12)\n",
    "additive_result=seasonal_decompose(same_period['abev3_adjusted close'], model='additive', period=12)"
   ]
  },
  {
   "cell_type": "code",
   "execution_count": null,
   "id": "653dab5c",
   "metadata": {},
   "outputs": [],
   "source": [
    "additive_result.trend.plot()"
   ]
  },
  {
   "cell_type": "code",
   "execution_count": null,
   "id": "58d5af33",
   "metadata": {},
   "outputs": [],
   "source": [
    "additive_result.plot()"
   ]
  },
  {
   "cell_type": "markdown",
   "id": "85cc88a5",
   "metadata": {},
   "source": [
    "# Random Portfolio Allocations"
   ]
  },
  {
   "cell_type": "code",
   "execution_count": null,
   "id": "c88cb900",
   "metadata": {},
   "outputs": [],
   "source": [
    "number_of_random_portfolios = 5\n",
    "random_portfolio_weights = list()\n",
    "\n",
    "portfolio_return = []\n",
    "portfoli_risk = []\n",
    "sharp_ratio = []\n",
    "\n",
    "for ticker in range(5):\n",
    "    \n",
    "    # Creating rando portfolio distributions\n",
    "    random_weights = np.random.rand(len(to_consider))   \n",
    "    random_portfolio_weights.append(np.round(random_weights/np.sum(random_weights),3))\n",
    "    \n",
    "    "
   ]
  },
  {
   "cell_type": "code",
   "execution_count": null,
   "id": "1a4449d0",
   "metadata": {},
   "outputs": [],
   "source": [
    "df.pct_change()"
   ]
  },
  {
   "cell_type": "code",
   "execution_count": null,
   "id": "ac98b363",
   "metadata": {},
   "outputs": [],
   "source": []
  }
 ],
 "metadata": {
  "kernelspec": {
   "display_name": "alpha-fenix-kernel",
   "language": "python",
   "name": "alpha-fenix-kernel"
  },
  "language_info": {
   "codemirror_mode": {
    "name": "ipython",
    "version": 3
   },
   "file_extension": ".py",
   "mimetype": "text/x-python",
   "name": "python",
   "nbconvert_exporter": "python",
   "pygments_lexer": "ipython3",
   "version": "3.8.2"
  }
 },
 "nbformat": 4,
 "nbformat_minor": 5
}
