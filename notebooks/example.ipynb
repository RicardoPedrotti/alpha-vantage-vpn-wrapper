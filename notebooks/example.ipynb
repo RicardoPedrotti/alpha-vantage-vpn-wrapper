{
 "cells": [
  {
   "cell_type": "code",
   "execution_count": 2,
   "id": "forward-reverse",
   "metadata": {
    "pycharm": {
     "name": "#%%\n"
    }
   },
   "outputs": [],
   "source": [
    "from fenix_alpha_vantage_interface.alpha_stock_fundamentals import AlphaStockFundamentals"
   ]
  },
  {
   "cell_type": "markdown",
   "id": "genetic-jesus",
   "metadata": {},
   "source": [
    "# Fundamentals Data"
   ]
  },
  {
   "cell_type": "code",
   "execution_count": 4,
   "id": "timely-charm",
   "metadata": {},
   "outputs": [
    {
     "name": "stderr",
     "output_type": "stream",
     "text": [
      "INFO:root:\n",
      "             /$$$$$$$$                  /$$                  /$$$$$$  /$$           /$$                          \n",
      "            | $$_____/                 |__/                 /$$__  $$| $$          | $$                          \n",
      "            | $$     /$$$$$$  /$$$$$$$  /$$ /$$   /$$      | $$  \\ $$| $$  /$$$$$$ | $$$$$$$   /$$$$$$ \n",
      "            | $$$$$ /$$__  $$| $$__  $$| $$|  $$ /$$/      | $$$$$$$$| $$ /$$__  $$| $$__  $$ |____  $$ \n",
      "            | $$__/| $$$$$$$$| $$  \\ $$| $$ \\  $$$$/       | $$__  $$| $$| $$  \\ $$| $$  \\ $$  /$$$$$$$\n",
      "            | $$   | $$_____/| $$  | $$| $$  >$$  $$       | $$  | $$| $$| $$  | $$| $$  | $$ /$$__  $$\n",
      "            | $$   |  $$$$$$$| $$  | $$| $$ /$$/\\  $$      | $$  | $$| $$| $$$$$$$/| $$  | $$|  $$$$$$$|\n",
      "            |__/    \\_______/|__/  |__/|__/|__/  \\__/      |__/  |__/|__/| $$____/ |__/  |__/ \\_______/\n",
      "                                                                         | $$                                    \n",
      "                                                                         | $$                                    \n",
      "                                                                         |__/                                    \n",
      "            \n"
     ]
    }
   ],
   "source": [
    "fundamentals = AlphaStockFundamentals()"
   ]
  },
  {
   "cell_type": "code",
   "execution_count": 5,
   "id": "looking-conditioning",
   "metadata": {},
   "outputs": [
    {
     "name": "stderr",
     "output_type": "stream",
     "text": [
      "INFO:root:Starting API Interface with Endpoint: BALANCE_SHEET\n",
      "INFO:root:Beware! Not using VPN to call Alpha Vantage! This way, even when using different API keys they know who is sending the request! ;D\n",
      "INFO:root:Using API Key N8NDOHHQNOCBJT6G\n"
     ]
    },
    {
     "name": "stdout",
     "output_type": "stream",
     "text": [
      "                                                                  0\n",
      "symbol                                                          IBM\n",
      "annualReports     [{'fiscalDateEnding': '2020-12-31', 'reportedC...\n",
      "quarterlyReports  [{'fiscalDateEnding': '2021-03-31', 'reportedC...\n"
     ]
    },
    {
     "data": {
      "text/html": [
       "<div>\n",
       "<style scoped>\n",
       "    .dataframe tbody tr th:only-of-type {\n",
       "        vertical-align: middle;\n",
       "    }\n",
       "\n",
       "    .dataframe tbody tr th {\n",
       "        vertical-align: top;\n",
       "    }\n",
       "\n",
       "    .dataframe thead th {\n",
       "        text-align: right;\n",
       "    }\n",
       "</style>\n",
       "<table border=\"1\" class=\"dataframe\">\n",
       "  <thead>\n",
       "    <tr style=\"text-align: right;\">\n",
       "      <th></th>\n",
       "      <th>0</th>\n",
       "    </tr>\n",
       "  </thead>\n",
       "  <tbody>\n",
       "    <tr>\n",
       "      <th>symbol</th>\n",
       "      <td>IBM</td>\n",
       "    </tr>\n",
       "    <tr>\n",
       "      <th>annualReports</th>\n",
       "      <td>[{'fiscalDateEnding': '2020-12-31', 'reportedC...</td>\n",
       "    </tr>\n",
       "    <tr>\n",
       "      <th>quarterlyReports</th>\n",
       "      <td>[{'fiscalDateEnding': '2021-03-31', 'reportedC...</td>\n",
       "    </tr>\n",
       "  </tbody>\n",
       "</table>\n",
       "</div>"
      ],
      "text/plain": [
       "                                                                  0\n",
       "symbol                                                          IBM\n",
       "annualReports     [{'fiscalDateEnding': '2020-12-31', 'reportedC...\n",
       "quarterlyReports  [{'fiscalDateEnding': '2021-03-31', 'reportedC..."
      ]
     },
     "execution_count": 5,
     "metadata": {},
     "output_type": "execute_result"
    }
   ],
   "source": [
    "fundamentals.df_balance_sheet(ticker='IBM', print_return=True)"
   ]
  },
  {
   "cell_type": "markdown",
   "id": "southwest-ridge",
   "metadata": {},
   "source": [
    "# TimeSeries Data"
   ]
  },
  {
   "cell_type": "code",
   "execution_count": 6,
   "id": "sonic-comparison",
   "metadata": {},
   "outputs": [],
   "source": [
    "from fenix_alpha_vantage_interface.alpha_stock_timeseries import AlphaStockTimeSeries"
   ]
  },
  {
   "cell_type": "code",
   "execution_count": 7,
   "id": "informal-durham",
   "metadata": {},
   "outputs": [
    {
     "name": "stderr",
     "output_type": "stream",
     "text": [
      "INFO:root:\n",
      "             /$$$$$$$$                  /$$                  /$$$$$$  /$$           /$$                          \n",
      "            | $$_____/                 |__/                 /$$__  $$| $$          | $$                          \n",
      "            | $$     /$$$$$$  /$$$$$$$  /$$ /$$   /$$      | $$  \\ $$| $$  /$$$$$$ | $$$$$$$   /$$$$$$ \n",
      "            | $$$$$ /$$__  $$| $$__  $$| $$|  $$ /$$/      | $$$$$$$$| $$ /$$__  $$| $$__  $$ |____  $$ \n",
      "            | $$__/| $$$$$$$$| $$  \\ $$| $$ \\  $$$$/       | $$__  $$| $$| $$  \\ $$| $$  \\ $$  /$$$$$$$\n",
      "            | $$   | $$_____/| $$  | $$| $$  >$$  $$       | $$  | $$| $$| $$  | $$| $$  | $$ /$$__  $$\n",
      "            | $$   |  $$$$$$$| $$  | $$| $$ /$$/\\  $$      | $$  | $$| $$| $$$$$$$/| $$  | $$|  $$$$$$$|\n",
      "            |__/    \\_______/|__/  |__/|__/|__/  \\__/      |__/  |__/|__/| $$____/ |__/  |__/ \\_______/\n",
      "                                                                         | $$                                    \n",
      "                                                                         | $$                                    \n",
      "                                                                         |__/                                    \n",
      "            \n"
     ]
    }
   ],
   "source": [
    "timeseries = AlphaStockTimeSeries()"
   ]
  },
  {
   "cell_type": "code",
   "execution_count": 10,
   "id": "biological-greensboro",
   "metadata": {},
   "outputs": [
    {
     "name": "stderr",
     "output_type": "stream",
     "text": [
      "INFO:root:Starting API Interface with Endpoint: TIME_SERIES_INTRADAY_EXTENDED\n",
      "INFO:root:Beware! Not using VPN to call Alpha Vantage! This way, even when using different API keys they know who is sending the request! ;D\n",
      "INFO:root:Optional intervals between the Data Points for this API are: ['1min', '5min', '15min', '30min', '60min']. If not set, uses standard value.\n",
      "INFO:root:Using API Key W7GSLJ9WFW7Y4LJI\n",
      "INFO:root:Using API Key N8NDOHHQNOCBJT6G\n",
      "INFO:root:Using API Key PY0Y2U2D4FVR4H0C\n",
      "INFO:root:Using API Key PX9CD4W9JVITGC54\n",
      "INFO:root:Using API Key PX9CD4W9JVITGC54\n",
      "INFO:root:Using API Key H7ROJYZACU81ZE53\n",
      "INFO:root:Using API Key H7ROJYZACU81ZE53\n",
      "INFO:root:Using API Key N8NDOHHQNOCBJT6G\n",
      "INFO:root:Using API Key H7ROJYZACU81ZE53\n",
      "INFO:root:Using API Key N8NDOHHQNOCBJT6G\n",
      "INFO:root:Using API Key N8NDOHHQNOCBJT6G\n",
      "INFO:root:Using API Key W7GSLJ9WFW7Y4LJI\n",
      "INFO:root:Using API Key RN06TXPFRIXXDVJQ\n",
      "INFO:root:Using API Key PY0Y2U2D4FVR4H0C\n",
      "INFO:root:Using API Key MK0YRRC21ZVMMO2U\n",
      "INFO:root:Using API Key W7GSLJ9WFW7Y4LJI\n",
      "INFO:root:Using API Key H7ROJYZACU81ZE53\n",
      "INFO:root:Using API Key JVZZHF7WPEZFB40H\n",
      "INFO:root:Using API Key RN06TXPFRIXXDVJQ\n",
      "INFO:root:Using API Key W7GSLJ9WFW7Y4LJI\n",
      "INFO:root:Using API Key FD0SOT5MZ1FC2UA6\n",
      "INFO:root:Using API Key JVZZHF7WPEZFB40H\n",
      "INFO:root:Using API Key RN06TXPFRIXXDVJQ\n",
      "INFO:root:Using API Key PY0Y2U2D4FVR4H0C\n"
     ]
    },
    {
     "data": {
      "text/html": [
       "<div>\n",
       "<style scoped>\n",
       "    .dataframe tbody tr th:only-of-type {\n",
       "        vertical-align: middle;\n",
       "    }\n",
       "\n",
       "    .dataframe tbody tr th {\n",
       "        vertical-align: top;\n",
       "    }\n",
       "\n",
       "    .dataframe thead th {\n",
       "        text-align: right;\n",
       "    }\n",
       "</style>\n",
       "<table border=\"1\" class=\"dataframe\">\n",
       "  <thead>\n",
       "    <tr style=\"text-align: right;\">\n",
       "      <th></th>\n",
       "      <th>time</th>\n",
       "      <th>open</th>\n",
       "      <th>high</th>\n",
       "      <th>low</th>\n",
       "      <th>close</th>\n",
       "      <th>volume</th>\n",
       "    </tr>\n",
       "  </thead>\n",
       "  <tbody>\n",
       "    <tr>\n",
       "      <th>0</th>\n",
       "      <td>2021-05-18 19:24:00</td>\n",
       "      <td>143.510000</td>\n",
       "      <td>143.510000</td>\n",
       "      <td>143.510000</td>\n",
       "      <td>143.510000</td>\n",
       "      <td>203</td>\n",
       "    </tr>\n",
       "    <tr>\n",
       "      <th>1</th>\n",
       "      <td>2021-05-18 18:58:00</td>\n",
       "      <td>143.570000</td>\n",
       "      <td>143.570000</td>\n",
       "      <td>143.570000</td>\n",
       "      <td>143.570000</td>\n",
       "      <td>400</td>\n",
       "    </tr>\n",
       "    <tr>\n",
       "      <th>2</th>\n",
       "      <td>2021-05-18 18:47:00</td>\n",
       "      <td>143.580000</td>\n",
       "      <td>143.580000</td>\n",
       "      <td>143.580000</td>\n",
       "      <td>143.580000</td>\n",
       "      <td>600</td>\n",
       "    </tr>\n",
       "    <tr>\n",
       "      <th>3</th>\n",
       "      <td>2021-05-18 18:46:00</td>\n",
       "      <td>143.510000</td>\n",
       "      <td>143.510000</td>\n",
       "      <td>143.510000</td>\n",
       "      <td>143.510000</td>\n",
       "      <td>104</td>\n",
       "    </tr>\n",
       "    <tr>\n",
       "      <th>4</th>\n",
       "      <td>2021-05-18 18:41:00</td>\n",
       "      <td>143.580000</td>\n",
       "      <td>143.580000</td>\n",
       "      <td>143.580000</td>\n",
       "      <td>143.580000</td>\n",
       "      <td>1000</td>\n",
       "    </tr>\n",
       "    <tr>\n",
       "      <th>...</th>\n",
       "      <td>...</td>\n",
       "      <td>...</td>\n",
       "      <td>...</td>\n",
       "      <td>...</td>\n",
       "      <td>...</td>\n",
       "      <td>...</td>\n",
       "    </tr>\n",
       "    <tr>\n",
       "      <th>8892</th>\n",
       "      <td>2019-05-30 08:19:00</td>\n",
       "      <td>117.760459</td>\n",
       "      <td>117.760459</td>\n",
       "      <td>117.760459</td>\n",
       "      <td>117.760459</td>\n",
       "      <td>183</td>\n",
       "    </tr>\n",
       "    <tr>\n",
       "      <th>8893</th>\n",
       "      <td>2019-05-30 07:31:00</td>\n",
       "      <td>117.805769</td>\n",
       "      <td>117.805769</td>\n",
       "      <td>117.805769</td>\n",
       "      <td>117.805769</td>\n",
       "      <td>100</td>\n",
       "    </tr>\n",
       "    <tr>\n",
       "      <th>8894</th>\n",
       "      <td>2019-05-30 07:01:00</td>\n",
       "      <td>117.987008</td>\n",
       "      <td>118.005132</td>\n",
       "      <td>117.987008</td>\n",
       "      <td>118.005132</td>\n",
       "      <td>400</td>\n",
       "    </tr>\n",
       "    <tr>\n",
       "      <th>8895</th>\n",
       "      <td>2019-05-30 04:05:00</td>\n",
       "      <td>118.258868</td>\n",
       "      <td>118.258868</td>\n",
       "      <td>118.258868</td>\n",
       "      <td>118.258868</td>\n",
       "      <td>500</td>\n",
       "    </tr>\n",
       "    <tr>\n",
       "      <th>8896</th>\n",
       "      <td>2019-05-30 04:04:00</td>\n",
       "      <td>118.122938</td>\n",
       "      <td>118.122938</td>\n",
       "      <td>118.122938</td>\n",
       "      <td>118.122938</td>\n",
       "      <td>100</td>\n",
       "    </tr>\n",
       "  </tbody>\n",
       "</table>\n",
       "<p>214937 rows × 6 columns</p>\n",
       "</div>"
      ],
      "text/plain": [
       "                     time        open        high         low       close  \\\n",
       "0     2021-05-18 19:24:00  143.510000  143.510000  143.510000  143.510000   \n",
       "1     2021-05-18 18:58:00  143.570000  143.570000  143.570000  143.570000   \n",
       "2     2021-05-18 18:47:00  143.580000  143.580000  143.580000  143.580000   \n",
       "3     2021-05-18 18:46:00  143.510000  143.510000  143.510000  143.510000   \n",
       "4     2021-05-18 18:41:00  143.580000  143.580000  143.580000  143.580000   \n",
       "...                   ...         ...         ...         ...         ...   \n",
       "8892  2019-05-30 08:19:00  117.760459  117.760459  117.760459  117.760459   \n",
       "8893  2019-05-30 07:31:00  117.805769  117.805769  117.805769  117.805769   \n",
       "8894  2019-05-30 07:01:00  117.987008  118.005132  117.987008  118.005132   \n",
       "8895  2019-05-30 04:05:00  118.258868  118.258868  118.258868  118.258868   \n",
       "8896  2019-05-30 04:04:00  118.122938  118.122938  118.122938  118.122938   \n",
       "\n",
       "      volume  \n",
       "0        203  \n",
       "1        400  \n",
       "2        600  \n",
       "3        104  \n",
       "4       1000  \n",
       "...      ...  \n",
       "8892     183  \n",
       "8893     100  \n",
       "8894     400  \n",
       "8895     500  \n",
       "8896     100  \n",
       "\n",
       "[214937 rows x 6 columns]"
      ]
     },
     "execution_count": 10,
     "metadata": {},
     "output_type": "execute_result"
    }
   ],
   "source": [
    "timeseries.df_time_series_intraday_extended(ticker='IBM', interval='1min', use_vpn=True)"
   ]
  }
 ],
 "metadata": {
  "kernelspec": {
   "display_name": "alpha-fenix-kernel",
   "language": "python",
   "name": "alpha-fenix-kernel"
  },
  "language_info": {
   "codemirror_mode": {
    "name": "ipython",
    "version": 3
   },
   "file_extension": ".py",
   "mimetype": "text/x-python",
   "name": "python",
   "nbconvert_exporter": "python",
   "pygments_lexer": "ipython3",
   "version": "3.8.2"
  }
 },
 "nbformat": 4,
 "nbformat_minor": 5
}