{
 "cells": [
  {
   "cell_type": "code",
   "execution_count": 1,
   "id": "6aed0126",
   "metadata": {},
   "outputs": [],
   "source": [
    "%load_ext autoreload\n",
    "%autoreload 2"
   ]
  },
  {
   "cell_type": "code",
   "execution_count": 2,
   "id": "7dbb8013",
   "metadata": {},
   "outputs": [],
   "source": [
    "import pandas as pd\n",
    "import numpy as np\n",
    "from matplotlib import pyplot as plt"
   ]
  },
  {
   "cell_type": "markdown",
   "id": "b8c02d3a",
   "metadata": {},
   "source": [
    "# Calendar"
   ]
  },
  {
   "cell_type": "code",
   "execution_count": 3,
   "id": "08a83e3c",
   "metadata": {},
   "outputs": [],
   "source": [
    "calendar = pd.DataFrame({\"date\": pd.date_range('2018-01-01', '2020-12-31')}) #-- dia anterior menos a janela\n",
    "# calendar[\"Day\"] = calendar.Date.dt.weekday_name\n",
    "# calendar[\"Week\"] = calendar.Date.dt.weekofyear\n",
    "# calendar[\"Quarter\"] = calendar.Date.dt.quarter\n",
    "# calendar[\"Year\"] = calendar.Date.dt.year\n",
    "# calendar[\"Year_half\"] = (calendar.Quarter + 1) // 2"
   ]
  },
  {
   "cell_type": "markdown",
   "id": "de190463",
   "metadata": {},
   "source": [
    "# Stocks"
   ]
  },
  {
   "cell_type": "code",
   "execution_count": 5,
   "id": "99480153",
   "metadata": {},
   "outputs": [],
   "source": [
    "from fenix_alpha_vantage_interface.alpha_stock_timeseries import AlphaStockTimeSeries\n",
    "# Instance of class to use\n",
    "timeseries = AlphaStockTimeSeries()"
   ]
  },
  {
   "cell_type": "code",
   "execution_count": 6,
   "id": "c928bd1b",
   "metadata": {},
   "outputs": [],
   "source": [
    "to_consider = ['ABEV3.SAO', \n",
    "               'LREN3.SAO',\n",
    "               'AZUL4.SAO', \n",
    "               'LIGT3.SAO',\n",
    "               'SHOW3.SAO',\n",
    "               'PETR4.SAO',\n",
    "               'JBSS3.SAO',\n",
    "               'OIBR3.SAO',\n",
    "               'BBDC4.SAO',\n",
    "               'NTCO3.SAO']\n",
    "\n",
    "# to_consider = ['BBAS3.SAO', 'BBDC4.SAO',\n",
    "#                'BPAC11.SAO', 'ITUB4.SAO',\n",
    "#                'SHOW3.SAO']"
   ]
  },
  {
   "cell_type": "markdown",
   "id": "987e88a6",
   "metadata": {},
   "source": [
    "### Getting data from Alpha Vantage"
   ]
  },
  {
   "cell_type": "code",
   "execution_count": 7,
   "id": "e80685c0",
   "metadata": {},
   "outputs": [
    {
     "name": "stderr",
     "output_type": "stream",
     "text": [
      "INFO:root:Starting API Interface with Endpoint: TIME_SERIES_DAILY_ADJUSTED\n",
      "INFO:root:Using VPN to call Alpha Vantage! Be aware that this is a 3rd party service which can malfunction sometimes due to connection timeout. If it does, try your command again.\n",
      "INFO:root:Starting API Interface with Endpoint: TIME_SERIES_DAILY_ADJUSTED\n",
      "INFO:root:Using VPN to call Alpha Vantage! Be aware that this is a 3rd party service which can malfunction sometimes due to connection timeout. If it does, try your command again.\n",
      "INFO:root:Starting API Interface with Endpoint: TIME_SERIES_DAILY_ADJUSTED\n",
      "INFO:root:Using VPN to call Alpha Vantage! Be aware that this is a 3rd party service which can malfunction sometimes due to connection timeout. If it does, try your command again.\n",
      "INFO:root:Starting API Interface with Endpoint: TIME_SERIES_DAILY_ADJUSTED\n",
      "INFO:root:Using VPN to call Alpha Vantage! Be aware that this is a 3rd party service which can malfunction sometimes due to connection timeout. If it does, try your command again.\n",
      "INFO:root:Starting API Interface with Endpoint: TIME_SERIES_DAILY_ADJUSTED\n",
      "INFO:root:Using VPN to call Alpha Vantage! Be aware that this is a 3rd party service which can malfunction sometimes due to connection timeout. If it does, try your command again.\n",
      "INFO:root:Starting API Interface with Endpoint: TIME_SERIES_DAILY_ADJUSTED\n",
      "INFO:root:Using VPN to call Alpha Vantage! Be aware that this is a 3rd party service which can malfunction sometimes due to connection timeout. If it does, try your command again.\n",
      "INFO:root:Starting API Interface with Endpoint: TIME_SERIES_DAILY_ADJUSTED\n",
      "INFO:root:Using VPN to call Alpha Vantage! Be aware that this is a 3rd party service which can malfunction sometimes due to connection timeout. If it does, try your command again.\n",
      "INFO:root:Starting API Interface with Endpoint: TIME_SERIES_DAILY_ADJUSTED\n",
      "INFO:root:Using VPN to call Alpha Vantage! Be aware that this is a 3rd party service which can malfunction sometimes due to connection timeout. If it does, try your command again.\n",
      "INFO:root:Starting API Interface with Endpoint: TIME_SERIES_DAILY_ADJUSTED\n",
      "INFO:root:Using VPN to call Alpha Vantage! Be aware that this is a 3rd party service which can malfunction sometimes due to connection timeout. If it does, try your command again.\n",
      "INFO:root:Starting API Interface with Endpoint: TIME_SERIES_DAILY_ADJUSTED\n",
      "INFO:root:Using VPN to call Alpha Vantage! Be aware that this is a 3rd party service which can malfunction sometimes due to connection timeout. If it does, try your command again.\n"
     ]
    }
   ],
   "source": [
    "daily_api_dfs = {}\n",
    "for ticker in to_consider:\n",
    "    daily_api_dfs[ticker] = timeseries.df_time_series_daily(ticker=ticker, use_vpn=True, adjusted=True)"
   ]
  },
  {
   "cell_type": "markdown",
   "id": "f1bb54c2",
   "metadata": {},
   "source": [
    "## Single Dataframe calculating return over week"
   ]
  },
  {
   "cell_type": "code",
   "execution_count": 12,
   "id": "a0d2288d",
   "metadata": {},
   "outputs": [],
   "source": [
    "# Using data for 2 years\n",
    "df = calendar.copy()\n",
    "daily_dfs = daily_api_dfs.copy()\n",
    "\n",
    "ticker_close_column_names = []\n",
    "close_column_name = 'close'\n",
    "\n",
    "for stock in daily_dfs:\n",
    "    \n",
    "    # Getting Stock name\n",
    "    prefix = stock.lower()[0:5]+'_'\n",
    "    \n",
    "    #Selecting only the columns of interest and renaming\n",
    "    daily_dfs[stock] = daily_dfs[stock][['timestamp', 'adjusted_close']]\n",
    "    daily_dfs[stock] = daily_dfs[stock].rename({'adjusted_close':close_column_name}, axis='columns')\n",
    "    \n",
    "    # Adding Prefix to all columns\n",
    "    daily_dfs[stock] = daily_dfs[stock].add_prefix(prefix)\n",
    "    ticker_close_column_names.append(prefix+close_column_name)\n",
    "    \n",
    "    df = df.merge(daily_dfs[stock], how='inner', left_on='date', right_on=prefix+'timestamp')\n",
    "    del df[prefix+'timestamp']\n",
    "    \n",
    "df = df.set_index('date')"
   ]
  },
  {
   "cell_type": "markdown",
   "id": "aa3dc926",
   "metadata": {},
   "source": [
    "# Different kinds of Return"
   ]
  },
  {
   "cell_type": "markdown",
   "id": "eb5c48a7",
   "metadata": {},
   "source": [
    "How to choose?"
   ]
  },
  {
   "cell_type": "markdown",
   "id": "bf2f5b49",
   "metadata": {},
   "source": [
    "shifting_test = df.copy()\n",
    "for ticker_close in ticker_close_column_names: \n",
    "    shifting_test[ticker_close+'_previous_day_close'] = shifting_test[ticker_close].shift(1)"
   ]
  },
  {
   "cell_type": "code",
   "execution_count": 44,
   "id": "f0008b66",
   "metadata": {},
   "outputs": [
    {
     "name": "stdout",
     "output_type": "stream",
     "text": [
      "(stock price / previous stock price) - 1\n"
     ]
    },
    {
     "data": {
      "text/html": [
       "<div>\n",
       "<style scoped>\n",
       "    .dataframe tbody tr th:only-of-type {\n",
       "        vertical-align: middle;\n",
       "    }\n",
       "\n",
       "    .dataframe tbody tr th {\n",
       "        vertical-align: top;\n",
       "    }\n",
       "\n",
       "    .dataframe thead th {\n",
       "        text-align: right;\n",
       "    }\n",
       "</style>\n",
       "<table border=\"1\" class=\"dataframe\">\n",
       "  <thead>\n",
       "    <tr style=\"text-align: right;\">\n",
       "      <th></th>\n",
       "      <th>abev3_close</th>\n",
       "      <th>lren3_close</th>\n",
       "      <th>azul4_close</th>\n",
       "      <th>ligt3_close</th>\n",
       "      <th>show3_close</th>\n",
       "      <th>petr4_close</th>\n",
       "      <th>jbss3_close</th>\n",
       "      <th>oibr3_close</th>\n",
       "      <th>bbdc4_close</th>\n",
       "      <th>ntco3_close</th>\n",
       "    </tr>\n",
       "    <tr>\n",
       "      <th>date</th>\n",
       "      <th></th>\n",
       "      <th></th>\n",
       "      <th></th>\n",
       "      <th></th>\n",
       "      <th></th>\n",
       "      <th></th>\n",
       "      <th></th>\n",
       "      <th></th>\n",
       "      <th></th>\n",
       "      <th></th>\n",
       "    </tr>\n",
       "  </thead>\n",
       "  <tbody>\n",
       "    <tr>\n",
       "      <th>2018-01-02</th>\n",
       "      <td>NaN</td>\n",
       "      <td>NaN</td>\n",
       "      <td>NaN</td>\n",
       "      <td>NaN</td>\n",
       "      <td>NaN</td>\n",
       "      <td>NaN</td>\n",
       "      <td>NaN</td>\n",
       "      <td>NaN</td>\n",
       "      <td>NaN</td>\n",
       "      <td>NaN</td>\n",
       "    </tr>\n",
       "    <tr>\n",
       "      <th>2018-01-03</th>\n",
       "      <td>0.002307921006616376160889305</td>\n",
       "      <td>0.012730027165574337092152993</td>\n",
       "      <td>-0.0033149171270718232044198895</td>\n",
       "      <td>-0.0160825612875984203074936042</td>\n",
       "      <td>0.005438169149719594403217583</td>\n",
       "      <td>0.009067043618739903069466882</td>\n",
       "      <td>-0.0217752799528500463079902332</td>\n",
       "      <td>-0.0277777777777777777777777778</td>\n",
       "      <td>0.004045279940170649624366863</td>\n",
       "      <td>-0.0080410851128415757553230373</td>\n",
       "    </tr>\n",
       "    <tr>\n",
       "      <th>2018-01-04</th>\n",
       "      <td>-0.0055202232221412231970035947</td>\n",
       "      <td>0.005584899401640703741978286</td>\n",
       "      <td>0.006282335550628233555062823</td>\n",
       "      <td>-0.0072639377989826700493518624</td>\n",
       "      <td>0</td>\n",
       "      <td>0.001794445889785000033354013</td>\n",
       "      <td>0.002022658073956125533906420</td>\n",
       "      <td>-0.0057142857142857142857142857</td>\n",
       "      <td>0.016406129082185420213589228</td>\n",
       "      <td>0.029958219618668148860563442</td>\n",
       "    </tr>\n",
       "    <tr>\n",
       "      <th>2018-01-05</th>\n",
       "      <td>0.003700576824884862517504436</td>\n",
       "      <td>-0.0061089525017841566886051859</td>\n",
       "      <td>-0.0011017260374586852735952993</td>\n",
       "      <td>-0.0024411486112788694430494015</td>\n",
       "      <td>0.006760944278550904276297256</td>\n",
       "      <td>0.005979650543362454719795440</td>\n",
       "      <td>0.008074300746228592902775541</td>\n",
       "      <td>0.005747126436781609195402299</td>\n",
       "      <td>0.005667542256738236637734125</td>\n",
       "      <td>0</td>\n",
       "    </tr>\n",
       "    <tr>\n",
       "      <th>2018-01-08</th>\n",
       "      <td>-0.0018434665229501508519736676</td>\n",
       "      <td>-0.0050327270870499028240077358</td>\n",
       "      <td>-0.0106617647058823529411764706</td>\n",
       "      <td>-0.0103875247739279500888993685</td>\n",
       "      <td>0.013417091051541776260562986</td>\n",
       "      <td>0.011881594450401789851331136</td>\n",
       "      <td>0.002002407149019566074110367</td>\n",
       "      <td>-0.0114285714285714285714285714</td>\n",
       "      <td>-0.0002839094328909078004116687</td>\n",
       "      <td>-0.0118178510793111811787533350</td>\n",
       "    </tr>\n",
       "  </tbody>\n",
       "</table>\n",
       "</div>"
      ],
      "text/plain": [
       "                                abev3_close                      lren3_close  \\\n",
       "date                                                                           \n",
       "2018-01-02                              NaN                              NaN   \n",
       "2018-01-03    0.002307921006616376160889305    0.012730027165574337092152993   \n",
       "2018-01-04  -0.0055202232221412231970035947    0.005584899401640703741978286   \n",
       "2018-01-05    0.003700576824884862517504436  -0.0061089525017841566886051859   \n",
       "2018-01-08  -0.0018434665229501508519736676  -0.0050327270870499028240077358   \n",
       "\n",
       "                                azul4_close                      ligt3_close  \\\n",
       "date                                                                           \n",
       "2018-01-02                              NaN                              NaN   \n",
       "2018-01-03  -0.0033149171270718232044198895  -0.0160825612875984203074936042   \n",
       "2018-01-04    0.006282335550628233555062823  -0.0072639377989826700493518624   \n",
       "2018-01-05  -0.0011017260374586852735952993  -0.0024411486112788694430494015   \n",
       "2018-01-08  -0.0106617647058823529411764706  -0.0103875247739279500888993685   \n",
       "\n",
       "                              show3_close                    petr4_close  \\\n",
       "date                                                                       \n",
       "2018-01-02                            NaN                            NaN   \n",
       "2018-01-03  0.005438169149719594403217583  0.009067043618739903069466882   \n",
       "2018-01-04                              0  0.001794445889785000033354013   \n",
       "2018-01-05  0.006760944278550904276297256  0.005979650543362454719795440   \n",
       "2018-01-08  0.013417091051541776260562986  0.011881594450401789851331136   \n",
       "\n",
       "                                jbss3_close                      oibr3_close  \\\n",
       "date                                                                           \n",
       "2018-01-02                              NaN                              NaN   \n",
       "2018-01-03  -0.0217752799528500463079902332  -0.0277777777777777777777777778   \n",
       "2018-01-04    0.002022658073956125533906420  -0.0057142857142857142857142857   \n",
       "2018-01-05    0.008074300746228592902775541    0.005747126436781609195402299   \n",
       "2018-01-08    0.002002407149019566074110367  -0.0114285714285714285714285714   \n",
       "\n",
       "                                bbdc4_close                      ntco3_close  \n",
       "date                                                                          \n",
       "2018-01-02                              NaN                              NaN  \n",
       "2018-01-03    0.004045279940170649624366863  -0.0080410851128415757553230373  \n",
       "2018-01-04    0.016406129082185420213589228    0.029958219618668148860563442  \n",
       "2018-01-05    0.005667542256738236637734125                                0  \n",
       "2018-01-08  -0.0002839094328909078004116687  -0.0118178510793111811787533350  "
      ]
     },
     "execution_count": 44,
     "metadata": {},
     "output_type": "execute_result"
    }
   ],
   "source": [
    "print(\"(stock price / previous stock price) - 1\")\n",
    "# (((df/df.shift(1))-1)*100).head() -> Aqui é a janela de retorno\n",
    "returns_window = 1\n",
    "returns = df.pct_change(periods=returns_window)\n",
    "returns.head()"
   ]
  },
  {
   "cell_type": "markdown",
   "id": "67f2157f",
   "metadata": {},
   "source": [
    "# Standardizing Return Values"
   ]
  },
  {
   "cell_type": "code",
   "execution_count": 167,
   "id": "c7a28c51",
   "metadata": {},
   "outputs": [],
   "source": [
    "# Average return window -> Aqui é a janela de trade\n",
    "average_return_window = 30\n",
    "\n",
    "average_return_df = returns.rolling(average_return_window).mean()"
   ]
  },
  {
   "cell_type": "code",
   "execution_count": null,
   "id": "0b1cc838",
   "metadata": {},
   "outputs": [],
   "source": [
    "# Log return (Not being used)\n",
    "# log_returns = np.log(returns.astype(float))\n",
    "# log_returns.head()"
   ]
  },
  {
   "cell_type": "markdown",
   "id": "f7d023c1",
   "metadata": {},
   "source": [
    "# Returns Covariance"
   ]
  },
  {
   "cell_type": "code",
   "execution_count": 111,
   "id": "c45f8fa4",
   "metadata": {},
   "outputs": [],
   "source": [
    "returns_covariance_matrix = returns.astype(float).cov() # Sim, é só isso haha"
   ]
  },
  {
   "cell_type": "markdown",
   "id": "ff45a8fc",
   "metadata": {},
   "source": [
    "# Portfolio Optimization"
   ]
  },
  {
   "cell_type": "code",
   "execution_count": 55,
   "id": "3f885770",
   "metadata": {},
   "outputs": [],
   "source": [
    "# solve with SciPy\n",
    "import scipy.optimize as sop"
   ]
  },
  {
   "cell_type": "code",
   "execution_count": 59,
   "id": "e0520802",
   "metadata": {},
   "outputs": [],
   "source": [
    "# Ponto de atencao\n",
    "def check_sum_to_one(weights):\n",
    "    return np.sum(weights)-1\n",
    "\n",
    "def check_inequality(weights):\n",
    "    return weights"
   ]
  },
  {
   "cell_type": "code",
   "execution_count": 74,
   "id": "a57c9611",
   "metadata": {},
   "outputs": [],
   "source": [
    "# Starting values -> Fazer mais dinamico\n",
    "weights_start = [0.1, 0.1, 0.1, 0.1, 0.1, 0.1, 0.1, 0.1, 0.1, 0.1]\n",
    "\n",
    "# Can be anywhere from 0 to 1 -> We can set our hardcoded % of a stock here\n",
    "bounds = ((0,1),(0,1),(0,1),(0,1),(0,1),(0,1),(0,1),(0,1),(0,1),(0,1))"
   ]
  },
  {
   "cell_type": "code",
   "execution_count": 79,
   "id": "b9f57f44",
   "metadata": {},
   "outputs": [],
   "source": [
    "# Constraints from our minimization\n",
    "constraints = ([\n",
    "    {'type':'eq', 'fun':check_sum_to_one},\n",
    "    {'type':'ineq', 'fun':check_inequality}\n",
    "])"
   ]
  },
  {
   "cell_type": "code",
   "execution_count": 163,
   "id": "d9884801",
   "metadata": {},
   "outputs": [],
   "source": [
    "def negative_sr(weights):\n",
    "    weights = np.array(weights)\n",
    "    \n",
    "    ret = np.sum(average_return_df[-1:].mean()*weights)\n",
    "    volatility = np.dot(weights.T, np.dot(returns_covariance_matrix, weights))\n",
    "    \n",
    "    sr = volatility/ret\n",
    "    return sr"
   ]
  },
  {
   "cell_type": "code",
   "execution_count": 164,
   "id": "54a9cb24",
   "metadata": {},
   "outputs": [],
   "source": [
    "# https://docs.scipy.org/doc/scipy/reference/generated/scipy.optimize.minimize.html\n",
    "optimal_weights = sop.minimize(fun=negative_sr,\n",
    "                               x0=weights_start, \n",
    "                               method='SLSQP',\n",
    "                               bounds=bounds,\n",
    "                               constraints=constraints\n",
    "                              )"
   ]
  },
  {
   "cell_type": "code",
   "execution_count": 165,
   "id": "3f5f1da3",
   "metadata": {},
   "outputs": [
    {
     "data": {
      "text/plain": [
       "     fun: 0.05583242774879928\n",
       "     jac: array([0.05567885, 0.09882839, 0.10218638, 0.07690731, 0.05576541,\n",
       "       0.05602656, 0.05580024, 0.0563741 , 0.05788919, 0.07216592])\n",
       " message: 'Optimization terminated successfully'\n",
       "    nfev: 132\n",
       "     nit: 12\n",
       "    njev: 12\n",
       "  status: 0\n",
       " success: True\n",
       "       x: array([2.58262423e-01, 3.45996018e-17, 0.00000000e+00, 0.00000000e+00,\n",
       "       3.79527954e-01, 7.88046055e-02, 1.80726867e-01, 1.02678151e-01,\n",
       "       0.00000000e+00, 0.00000000e+00])"
      ]
     },
     "execution_count": 165,
     "metadata": {},
     "output_type": "execute_result"
    }
   ],
   "source": [
    "optimal_weights"
   ]
  },
  {
   "cell_type": "code",
   "execution_count": 166,
   "id": "c8d41bee",
   "metadata": {},
   "outputs": [
    {
     "name": "stdout",
     "output_type": "stream",
     "text": [
      "Optimal Allocation\n",
      "\n",
      "abev3 - 25.826%\n",
      "lren3 - 0.0%\n",
      "azul4 - 0.0%\n",
      "ligt3 - 0.0%\n",
      "show3 - 37.953%\n",
      "petr4 - 7.88%\n",
      "jbss3 - 18.073%\n",
      "oibr3 - 10.268%\n",
      "bbdc4 - 0.0%\n",
      "ntco3 - 0.0%\n"
     ]
    }
   ],
   "source": [
    "print(\"Optimal Allocation\")\n",
    "print(\"\")\n",
    "for ticker, value in zip(ticker_close_column_names, list(optimal_weights.x.astype(float)*100)):\n",
    "    print(f'{ticker[:5]} - {round(value,3)}%')"
   ]
  },
  {
   "cell_type": "markdown",
   "id": "7fac022b",
   "metadata": {},
   "source": [
    "---"
   ]
  },
  {
   "cell_type": "markdown",
   "id": "17a86cbb",
   "metadata": {},
   "source": [
    "# Correlation"
   ]
  },
  {
   "cell_type": "code",
   "execution_count": 51,
   "id": "ac87e598",
   "metadata": {},
   "outputs": [],
   "source": [
    "import seaborn as sns\n",
    "from matplotlib import pyplot as plt"
   ]
  },
  {
   "cell_type": "code",
   "execution_count": 151,
   "id": "c670ce08",
   "metadata": {},
   "outputs": [],
   "source": [
    "correlation_matrix = average_return_df.corr()"
   ]
  },
  {
   "cell_type": "code",
   "execution_count": 152,
   "id": "8a5f6ba5",
   "metadata": {},
   "outputs": [
    {
     "data": {
      "text/plain": [
       "<AxesSubplot:>"
      ]
     },
     "execution_count": 152,
     "metadata": {},
     "output_type": "execute_result"
    },
    {
     "data": {
      "image/png": "[encoded data removed]",
      "text/plain": [
       "<Figure size 720x720 with 2 Axes>"
      ]
     },
     "metadata": {},
     "output_type": "display_data"
    }
   ],
   "source": [
    "plt.rcParams['figure.figsize'] = (10,10)\n",
    "sns.set(font_scale=1.4)\n",
    "sns.heatmap(correlation_matrix, annot=True, cmap='coolwarm',  fmt='.1g', vmin = -1, vmax = 1)"
   ]
  },
  {
   "cell_type": "markdown",
   "id": "b75e35e4",
   "metadata": {},
   "source": [
    "# Decomposing"
   ]
  },
  {
   "cell_type": "code",
   "execution_count": null,
   "id": "1e1ce72b",
   "metadata": {},
   "outputs": [],
   "source": [
    "same_period.tail()"
   ]
  },
  {
   "cell_type": "code",
   "execution_count": null,
   "id": "efe9545f",
   "metadata": {},
   "outputs": [],
   "source": [
    "from statsmodels.tsa.seasonal import seasonal_decompose"
   ]
  },
  {
   "cell_type": "code",
   "execution_count": null,
   "id": "d0a3da2d",
   "metadata": {},
   "outputs": [],
   "source": [
    "multiplicable_result=seasonal_decompose(same_period['abev3_adjusted close'], model='multiplicable', period=12)\n",
    "additive_result=seasonal_decompose(same_period['abev3_adjusted close'], model='additive', period=12)"
   ]
  },
  {
   "cell_type": "code",
   "execution_count": null,
   "id": "653dab5c",
   "metadata": {},
   "outputs": [],
   "source": [
    "additive_result.trend.plot()"
   ]
  },
  {
   "cell_type": "code",
   "execution_count": null,
   "id": "58d5af33",
   "metadata": {},
   "outputs": [],
   "source": [
    "additive_result.plot()"
   ]
  },
  {
   "cell_type": "markdown",
   "id": "c5a3aa42",
   "metadata": {},
   "source": [
    "# Random Portfolio Allocations"
   ]
  },
  {
   "cell_type": "code",
   "execution_count": null,
   "id": "4df43d54",
   "metadata": {},
   "outputs": [],
   "source": [
    "number_of_random_portfolios = 5\n",
    "random_portfolio_weights = list()\n",
    "\n",
    "portfolio_return = []\n",
    "portfoli_risk = []\n",
    "sharp_ratio = []\n",
    "\n",
    "for ticker in range(5):\n",
    "    \n",
    "    # Creating rando portfolio distributions\n",
    "    random_weights = np.random.rand(len(to_consider))   \n",
    "    random_portfolio_weights.append(np.round(random_weights/np.sum(random_weights),3))\n",
    "    \n",
    "    "
   ]
  },
  {
   "cell_type": "code",
   "execution_count": null,
   "id": "23657ddf",
   "metadata": {},
   "outputs": [],
   "source": [
    "df.pct_change()"
   ]
  },
  {
   "cell_type": "code",
   "execution_count": null,
   "id": "5a302394",
   "metadata": {},
   "outputs": [],
   "source": []
  }
 ],
 "metadata": {
  "kernelspec": {
   "display_name": "alpha-fenix-kernel",
   "language": "python",
   "name": "alpha-fenix-kernel"
  },
  "language_info": {
   "codemirror_mode": {
    "name": "ipython",
    "version": 3
   },
   "file_extension": ".py",
   "mimetype": "text/x-python",
   "name": "python",
   "nbconvert_exporter": "python",
   "pygments_lexer": "ipython3",
   "version": "3.8.2"
  }
 },
 "nbformat": 4,
 "nbformat_minor": 5
}
